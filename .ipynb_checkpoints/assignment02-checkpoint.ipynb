{
 "cells": [
  {
   "cell_type": "code",
   "execution_count": 40,
   "id": "6f16ff33-e7d5-4eae-8013-5dc20a41bb84",
   "metadata": {},
   "outputs": [],
   "source": [
    "%%capture\n",
    "%run utils.py # Load auxiliary functions\n",
    "# Show maps inline\n",
    "from bokeh.resources import INLINE\n",
    "import bokeh.io\n",
    "bokeh.io.output_notebook(INLINE)\n",
    "\n",
    "import numpy as np\n",
    "import pandas as pd\n",
    "import matplotlib.pyplot as plt\n",
    "import seaborn as sns"
   ]
  },
  {
   "cell_type": "code",
   "execution_count": 41,
   "id": "c9f70218-ece2-4c89-8408-189952698ec3",
   "metadata": {},
   "outputs": [
    {
     "name": "stdout",
     "output_type": "stream",
     "text": [
      "Using direction_id field as indicator for the direction of routes\n",
      "180/98\n",
      "900/98\n",
      "860/98\n",
      "2510/98\n",
      "3330/98\n",
      "All GTC computed!\n"
     ]
    }
   ],
   "source": [
    "##################################################\n",
    "# load network-data into L-space and P-space graph\n",
    "##################################################\n",
    "\n",
    "graph = load_gtfs(\"./vienna.sqlite\")\n",
    "L = load_graph(\"./vienna.pkl\")\n",
    "P = P_space(graph,\n",
    "                  L,\n",
    "                  start_hour=5, # Same as when building L-space\n",
    "                  end_hour=24, # Same as when building L-space\n",
    "                  mode=\"Subway\") # Same as when building L-space\n",
    "\n",
    "# calculate gtc to get in-vehicle time\n",
    "alpha = 2 # Waiting time is multiplied by 2\n",
    "betas = [5,15] # 5 minutes for the first transfer, 15 minutes for any transfer after that.\n",
    "m = 1 # Number of shortest paths to retrieve\n",
    "gtc = get_all_GTC(L, P, m, alpha, betas)"
   ]
  },
  {
   "cell_type": "code",
   "execution_count": 42,
   "id": "cee7aee0",
   "metadata": {},
   "outputs": [
    {
     "data": {
      "text/plain": [
       "((3913,\n",
       "  2118,\n",
       "  {'veh': {2: {'1': 13.157894736842104}},\n",
       "   'avg_wait': 2.2800000000000002,\n",
       "   'edge_color': '#E3000F'}),\n",
       " (3913,\n",
       "  {'lat': 48.2775553655484,\n",
       "   'lon': 16.4517820482664,\n",
       "   'name': 'Leopoldau',\n",
       "   'original_ids': [3913, 3912],\n",
       "   'closeness': 0.5052083333333334}))"
      ]
     },
     "execution_count": 42,
     "metadata": {},
     "output_type": "execute_result"
    }
   ],
   "source": [
    "##################################################\n",
    "# calculate and set closeness centrality for nodes\n",
    "##################################################\n",
    "\n",
    "# calculate the degree centrality by nx\n",
    "closenessL = dict(nx.closeness_centrality(G=L, distance=None))\n",
    "closenessL = pd.DataFrame.from_dict(closenessL, orient='index')\n",
    "closenessL.columns = ['closeness']\n",
    "\n",
    "# calculate the degree centrality by nx\n",
    "closenessP = dict(nx.closeness_centrality(G=P, distance=None))\n",
    "closenessP = pd.DataFrame.from_dict(closenessP, orient='index')\n",
    "closenessP.columns = ['closeness']\n",
    "\n",
    "# assign closeness attributes into network nodes:\n",
    "nx.set_node_attributes(P, 0, \"closeness\")\n",
    "num_row = closenessP.shape[0]\n",
    "for row in range(num_row):\n",
    "    node_idx = closenessP.index[row]\n",
    "    val = closenessP['closeness'].iloc[row]\n",
    "    P.nodes[node_idx]['closeness'] = val\n",
    "\n",
    "# display node and edge attributes\n",
    "list(P.edges(data=True))[0], list(P.nodes(data=True))[0]"
   ]
  },
  {
   "cell_type": "code",
   "execution_count": 43,
   "id": "cefb998d-285b-425f-b75c-5a77fbf637e7",
   "metadata": {},
   "outputs": [
    {
     "data": {
      "text/html": [
       "<div>\n",
       "<style scoped>\n",
       "    .dataframe tbody tr th:only-of-type {\n",
       "        vertical-align: middle;\n",
       "    }\n",
       "\n",
       "    .dataframe tbody tr th {\n",
       "        vertical-align: top;\n",
       "    }\n",
       "\n",
       "    .dataframe thead th {\n",
       "        text-align: right;\n",
       "    }\n",
       "</style>\n",
       "<table border=\"1\" class=\"dataframe\">\n",
       "  <thead>\n",
       "    <tr style=\"text-align: right;\">\n",
       "      <th></th>\n",
       "      <th>closeness</th>\n",
       "    </tr>\n",
       "  </thead>\n",
       "  <tbody>\n",
       "    <tr>\n",
       "      <th>3913</th>\n",
       "      <td>0.505208</td>\n",
       "    </tr>\n",
       "    <tr>\n",
       "      <th>2118</th>\n",
       "      <td>0.505208</td>\n",
       "    </tr>\n",
       "    <tr>\n",
       "      <th>2113</th>\n",
       "      <td>0.505208</td>\n",
       "    </tr>\n",
       "    <tr>\n",
       "      <th>2124</th>\n",
       "      <td>0.505208</td>\n",
       "    </tr>\n",
       "    <tr>\n",
       "      <th>3562</th>\n",
       "      <td>0.505208</td>\n",
       "    </tr>\n",
       "    <tr>\n",
       "      <th>...</th>\n",
       "      <td>...</td>\n",
       "    </tr>\n",
       "    <tr>\n",
       "      <th>3075</th>\n",
       "      <td>0.466346</td>\n",
       "    </tr>\n",
       "    <tr>\n",
       "      <th>1435</th>\n",
       "      <td>0.466346</td>\n",
       "    </tr>\n",
       "    <tr>\n",
       "      <th>2494</th>\n",
       "      <td>0.466346</td>\n",
       "    </tr>\n",
       "    <tr>\n",
       "      <th>81</th>\n",
       "      <td>0.466346</td>\n",
       "    </tr>\n",
       "    <tr>\n",
       "      <th>755</th>\n",
       "      <td>0.466346</td>\n",
       "    </tr>\n",
       "  </tbody>\n",
       "</table>\n",
       "<p>98 rows × 1 columns</p>\n",
       "</div>"
      ],
      "text/plain": [
       "      closeness\n",
       "3913   0.505208\n",
       "2118   0.505208\n",
       "2113   0.505208\n",
       "2124   0.505208\n",
       "3562   0.505208\n",
       "...         ...\n",
       "3075   0.466346\n",
       "1435   0.466346\n",
       "2494   0.466346\n",
       "81     0.466346\n",
       "755    0.466346\n",
       "\n",
       "[98 rows x 1 columns]"
      ]
     },
     "execution_count": 43,
     "metadata": {},
     "output_type": "execute_result"
    }
   ],
   "source": [
    "closenessP"
   ]
  },
  {
   "cell_type": "code",
   "execution_count": 54,
   "id": "16a8747f-b7c3-497e-9d91-37ccafdde064",
   "metadata": {},
   "outputs": [],
   "source": [
    "###############\n",
    "# calculate a_i\n",
    "###############\n",
    "\n",
    "# 1. calculate the Q: WHAT is Q??\n",
    "Q = 10000\n",
    "# 2. calculate the ratio of Ci / Σ Ci\n",
    "summation = closenessP['closeness'].sum()\n",
    "closenessP['Ratio'] = closenessP['closeness'] / summation\n",
    "\n",
    "################\n",
    "# calculate f_ij\n",
    "################\n",
    "\n",
    "# 1. calculate in-vehicle travel time t_ij\n",
    "# create a in-vehicle travel time matrix (98 by 98)\n",
    "Time_ij = np.zeros((98,98))\n",
    "Time_ij = pd.DataFrame(data=Time_ij, index=gtc.keys(), columns=gtc.keys())\n",
    "# set the value for each o-d pair\n",
    "for origin, nodes in gtc.items():\n",
    "    for destin, attr in nodes.items():\n",
    "        Time_ij.at[origin, destin] = attr[0]['in_vehicle']\n",
    "assert Time_ij.shape == (98, 98)\n",
    "# 2. calculate Impedance matrix (98 by 98)\n",
    "# f_ij = alpha * e^{-1*beta*t_ij} | Formula 2\n",
    "alpha, beta = 5, 0.5\n",
    "Impedance_ij = alpha * np.exp(-1*beta*Time_ij)\n",
    "assert Impedance_ij.shape == (98, 98)\n",
    "\n",
    "##########################\n",
    "# calculate OD matrix x_ij\n",
    "##########################\n",
    "\n",
    "# create a OD matrix (98 by 98)\n",
    "OD_ij = np.zeros((98,98))\n",
    "OD_ij = pd.DataFrame(data=OD_ij, index=gtc.keys(), columns=gtc.keys())\n",
    "assert OD_ij.shape == (98, 98)\n",
    "\n",
    "# WHAT is Q?\n",
    "# calculate the od pair trips production and attraction\n",
    "for idx, origin in enumerate(gtc.keys()):\n",
    "    for jdx, destin in enumerate(gtc.keys()):\n",
    "        a_i, a_j = closenessP.loc[origin]['Ratio'], closenessP.loc[destin]['Ratio']\n",
    "        f_ij = Impedance_ij.at[origin, destin]\n",
    "        all_f = Impedance_ij.loc[origin].copy().to_numpy()\n",
    "        all_a = closenessP['closeness'].copy().to_numpy()\n",
    "        all_a[idx] = 0\n",
    "        assert all_f.shape == all_a.shape\n",
    "        OD_ij.at[origin, destin] =  Q * a_i * (a_j * f_ij) / (sum(all_a * all_f))"
   ]
  },
  {
   "cell_type": "code",
   "execution_count": 55,
   "id": "46d56486-2f06-4c04-a957-ca2f42e0e91a",
   "metadata": {},
   "outputs": [
    {
     "data": {
      "text/plain": [
       "284.685946206909"
      ]
     },
     "execution_count": 55,
     "metadata": {},
     "output_type": "execute_result"
    }
   ],
   "source": [
    "OD_ij.sum().sum()"
   ]
  },
  {
   "cell_type": "code",
   "execution_count": null,
   "id": "c1cf9ed3-e5de-4624-9352-d73187d2da77",
   "metadata": {},
   "outputs": [],
   "source": []
  }
 ],
 "metadata": {
  "kernelspec": {
   "display_name": "Python 3 (ipykernel)",
   "language": "python",
   "name": "python3"
  },
  "language_info": {
   "codemirror_mode": {
    "name": "ipython",
    "version": 3
   },
   "file_extension": ".py",
   "mimetype": "text/x-python",
   "name": "python",
   "nbconvert_exporter": "python",
   "pygments_lexer": "ipython3",
   "version": "3.8.16"
  }
 },
 "nbformat": 4,
 "nbformat_minor": 5
}
